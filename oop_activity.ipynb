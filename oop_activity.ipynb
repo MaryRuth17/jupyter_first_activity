{
 "cells": [
  {
   "cell_type": "markdown",
   "metadata": {},
   "source": [
    "# OOP ACTIVITY LAB 1"
   ]
  },
  {
   "cell_type": "markdown",
   "metadata": {},
   "source": [
    "***"
   ]
  },
  {
   "cell_type": "markdown",
   "metadata": {},
   "source": [
    "1. Write a Python function named print_diamond that takes an odd integer n as an argument and prints a diamond shape with a width of n using the * character.\n",
    "For n = 5, the output should be:\n",
    "<pre>\n",
    "     *  \n",
    "    ***  \n",
    "   *****  \n",
    "    ***  \n",
    "     *  \n",
    "</pre>\n",
    "*Note: If an even number is passed, the function should return \"Please provide an odd integer.\"*"
   ]
  },
  {
   "cell_type": "code",
   "execution_count": 4,
   "metadata": {},
   "outputs": [
    {
     "name": "stdout",
     "output_type": "stream",
     "text": [
      "   *\n",
      "  ***\n",
      " *****\n",
      "*******\n",
      " *****\n",
      "  ***\n",
      "   *\n"
     ]
    }
   ],
   "source": [
    "def print_diamond(n):\n",
    "    if n % 2 == 0:\n",
    "        return \"Please provide an odd integer.\"\n",
    "    \n",
    "    for i in range(1, n + 1, 2):\n",
    "        print(\" \" * ((n - i) // 2) + \"*\" * i)\n",
    "    \n",
    "    for i in range(n - 2, 0, -2):\n",
    "        print(\" \" * ((n - i) // 2) + \"*\" * i)\n",
    "\n",
    "n = int(input(\"Input odd number: \"))\n",
    "print_diamond(n)"
   ]
  }
 ],
 "metadata": {
  "kernelspec": {
   "display_name": "Python 3",
   "language": "python",
   "name": "python3"
  },
  "language_info": {
   "codemirror_mode": {
    "name": "ipython",
    "version": 3
   },
   "file_extension": ".py",
   "mimetype": "text/x-python",
   "name": "python",
   "nbconvert_exporter": "python",
   "pygments_lexer": "ipython3",
   "version": "3.13.1"
  }
 },
 "nbformat": 4,
 "nbformat_minor": 2
}
