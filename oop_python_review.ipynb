{
 "cells": [
  {
   "cell_type": "markdown",
   "metadata": {},
   "source": [
    "# OOP ACTIVITY LAB 1"
   ]
  },
  {
   "cell_type": "markdown",
   "metadata": {},
   "source": [
    "***"
   ]
  },
  {
   "cell_type": "markdown",
   "metadata": {},
   "source": [
    "1. Write a Python function named print_diamond that takes an odd integer n as an argument and prints a diamond shape with a width of n using the * character.\n",
    "For n = 5, the output should be:\n",
    "<pre>\n",
    "     *  \n",
    "    ***  \n",
    "   *****  \n",
    "    ***  \n",
    "     *  \n",
    "</pre>\n",
    "*Note: If an even number is passed, the function should return \"Please provide an odd integer.\"*"
   ]
  },
  {
   "cell_type": "code",
   "execution_count": 4,
   "metadata": {},
   "outputs": [
    {
     "name": "stdout",
     "output_type": "stream",
     "text": [
      "   *\n",
      "  ***\n",
      " *****\n",
      "*******\n",
      " *****\n",
      "  ***\n",
      "   *\n"
     ]
    }
   ],
   "source": [
    "def print_diamond(n):\n",
    "    if n % 2 == 0: #If input is even number\n",
    "        return \"Please provide an odd integer.\"\n",
    "    \n",
    "    for i in range(1, n + 1, 2):\n",
    "        print(\" \" * ((n - i) // 2) + \"*\" * i)\n",
    "    \n",
    "    for i in range(n - 2, 0, -2):\n",
    "        print(\" \" * ((n - i) // 2) + \"*\" * i)\n",
    "\n",
    "n = int(input(\"Input odd number: \")) #Taking Input from userr\n",
    "print_diamond(n)"
   ]
  },
  {
   "cell_type": "markdown",
   "metadata": {},
   "source": [
    "2. Create a program that will delete all duplicate characters in a string. Input starts with a number N  and is followed by N strings. **Output** : Print the character with all the duplicate characters removed.  \n",
    "\n",
    "**Sample Input #1**  \n",
    "4  \n",
    "Harrenhal  \n",
    "Drogos  \n",
    "Thoros of Myr  \n",
    "Iron Born  \n",
    "  \n",
    "**Sample Output #1**  \n",
    "enl  \n",
    "Drgs  \n",
    "ThsfMy  \n",
    "IB  "
   ]
  },
  {
   "cell_type": "code",
   "execution_count": 7,
   "metadata": {},
   "outputs": [
    {
     "name": "stdout",
     "output_type": "stream",
     "text": [
      "Output:\n",
      "era\n",
      "ad\n",
      "ared\n",
      "a\n"
     ]
    }
   ],
   "source": [
    "n = int(input(\"Enter number of strings: \"))\n",
    "strings = [input(\"Enter string: \") for i in range(n)]\n",
    "\n",
    "print(\"Your output:\")\n",
    "for s in strings:\n",
    "    result = \"\"\n",
    "    for char in s:\n",
    "        if s.count(char) == 1:\n",
    "            result += char\n",
    "    print(result)\n"
   ]
  },
  {
   "cell_type": "markdown",
   "metadata": {},
   "source": [
    "3. What is the output of the code below:"
   ]
  },
  {
   "cell_type": "code",
   "execution_count": 1,
   "metadata": {},
   "outputs": [
    {
     "name": "stdout",
     "output_type": "stream",
     "text": [
      "0 0\n",
      "0 1\n",
      "Inner End\n",
      "1 0\n",
      "1 1\n",
      "Inner End\n",
      "Outer End\n"
     ]
    }
   ],
   "source": [
    "for i in range(2):\n",
    "    for j in range(2):\n",
    "        print(i,j)\n",
    "    else:\n",
    "        print(\"Inner End\")\n",
    "else:\n",
    "    print(\"Outer End\")"
   ]
  },
  {
   "cell_type": "markdown",
   "metadata": {},
   "source": [
    "The outcome of the code is:  \n",
    "> **0 0**  \n",
    "> **0 1**  \n",
    "> **Inner End**  \n",
    "> **1 0**  \n",
    "> **1 1**  \n",
    "> **Inner End**  \n",
    "> **Outer End**  "
   ]
  },
  {
   "cell_type": "markdown",
   "metadata": {},
   "source": [
    "***\n"
   ]
  },
  {
   "cell_type": "markdown",
   "metadata": {},
   "source": [
    "*Passed by:*\n",
    "> *Relator, Mary Ruth P.*  \n",
    "> *BSCpE 1-7*"
   ]
  }
 ],
 "metadata": {
  "kernelspec": {
   "display_name": "Python 3",
   "language": "python",
   "name": "python3"
  },
  "language_info": {
   "codemirror_mode": {
    "name": "ipython",
    "version": 3
   },
   "file_extension": ".py",
   "mimetype": "text/x-python",
   "name": "python",
   "nbconvert_exporter": "python",
   "pygments_lexer": "ipython3",
   "version": "3.13.1"
  }
 },
 "nbformat": 4,
 "nbformat_minor": 2
}
